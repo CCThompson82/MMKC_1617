{
 "cells": [
  {
   "cell_type": "markdown",
   "metadata": {},
   "source": [
    "# March Madness Predictor Kaggle Competition\n",
    "This script shows the set-up, preprocessing and data storage for model training.\n",
    "#### Dependencies"
   ]
  },
  {
   "cell_type": "code",
   "execution_count": 1,
   "metadata": {
    "collapsed": true
   },
   "outputs": [],
   "source": [
    "# KenPom Scraper\n",
    "from bs4 import BeautifulSoup\n",
    "import requests\n",
    "import pandas as pd\n",
    "import numpy as np\n",
    "import re\n",
    "\n",
    "# sklearn \n",
    "from sklearn.preprocessing import StandardScaler, RobustScaler, MinMaxScaler\n",
    "# tensorflow (r0.12)\n",
    "import tensorflow as tf"
   ]
  },
  {
   "cell_type": "markdown",
   "metadata": {},
   "source": [
    "## Scrape KenPom website for Team Statistics \n",
    "Retrieved during the 2016-2017 competition # find source!"
   ]
  },
  {
   "cell_type": "code",
   "execution_count": 2,
   "metadata": {
    "collapsed": false
   },
   "outputs": [
    {
     "name": "stdout",
     "output_type": "stream",
     "text": [
      "KenPom scrape was completed previously and retrieved from local csv file\n"
     ]
    }
   ],
   "source": [
    "try :\n",
    "    KP = pd.read_csv('kenpom.csv')\n",
    "    print(\"KenPom scrape was completed previously and retrieved from local csv file\")\n",
    "except :\n",
    "\n",
    "    # Base url, and a lambda func to return url for a given year\n",
    "    base_url = 'http://kenpom.com/index.php'\n",
    "    url_year = lambda x: '%s?y=%s' % (base_url, str(x) if x != 2016 else base_url)\n",
    "\n",
    "    # Years on kenpom's site (could also scrape this and \n",
    "    # set as a list if you want to be more dynamic)\n",
    "    years = range(2002, 2018)\n",
    "\n",
    "    #%%# Create a method that parses a given year and spits out a raw dataframe\n",
    "    def import_raw_year(year):\n",
    "        \"\"\"\n",
    "        Imports raw data from a ken pom year into a dataframe\n",
    "        \"\"\"\n",
    "        f = requests.get(url_year(year))\n",
    "        soup = BeautifulSoup(f.text, \"lxml\")\n",
    "        table_html = soup.find_all('table', {'id': 'ratings-table'})\n",
    "\n",
    "        # Weird issue w/ <thead> in the html\n",
    "        # Prevents us from just using pd.read_html\n",
    "        # Let's find all the thead contents and just replace/remove them\n",
    "        # This allows us to easily put the table row data into a dataframe using panda\n",
    "        thead = table_html[0].find_all('thead')\n",
    "\n",
    "        table = table_html[0]\n",
    "        for x in thead:\n",
    "            table = str(table).replace(str(x), '')\n",
    "\n",
    "    #    table = \"<table id='ratings-table'>%s</table>\" % table\n",
    "        df = pd.read_html(table)[0]\n",
    "        df['year'] = year\n",
    "        return df\n",
    "    #%%\n",
    "        # Import all the years into a singular dataframe\n",
    "    df = None\n",
    "    for x in years:\n",
    "        df = pd.concat( (df, import_raw_year(x)), axis=0) \\\n",
    "            if df is not None else import_raw_year(2002)\n",
    "    #%%\n",
    "    df.columns = ['Rank', 'Team', 'Conference', 'W-L', 'Pyth', \n",
    "                   'AdjustO', 'AdjustO Rank', 'AdjustD', 'AdjustD Rank',\n",
    "                   'AdjustT', 'AdjustT Rank', 'Luck', 'Luck Rank', \n",
    "                   'SOS Pyth', 'SOS Pyth Rank', 'SOS OppO', 'SOS OppO Rank',\n",
    "                   'SOS OppD', 'SOS OppD Rank', 'NCSOS Pyth', 'NCSOS Pyth Rank', 'Year']\n",
    "    #%%\n",
    "    # Lambda that returns true if given string is a number and a valid seed number (1-16)\n",
    "    valid_seed = lambda x: True if str(x).replace(' ', '').isdigit() \\\n",
    "                    and int(x) > 0 and int(x) <= 16 else False\n",
    "\n",
    "    # Use lambda to parse out seed/team\n",
    "    df['Seed'] = df['Team'].apply(lambda x: x[-2:].replace(' ', '') \\\n",
    "                                  if valid_seed(x[-2:]) else np.nan )\n",
    "\n",
    "    df['Team'] = df['Team'].apply(lambda x: x[:-2] if valid_seed(x[-2:]) else x)\n",
    "    #%%       \n",
    "    # Split W-L column into wins and losses\n",
    "    df['Wins'] = df['W-L'].apply(lambda x: int(re.sub('-.*', '', x)) )\n",
    "    df['Losses'] = df['W-L'].apply(lambda x: int(re.sub('.*-', '', x)) )\n",
    "    df.drop('W-L', inplace=True, axis=1)\n",
    "    #%%     \n",
    "    # Reorder columns just cause I'm OCD\n",
    "    df=df[[ 'Year', 'Rank', 'Team', 'Conference', 'Wins', 'Losses', 'Seed','Pyth', \n",
    "                 'AdjustO', 'AdjustO Rank', 'AdjustD', 'AdjustD Rank',\n",
    "                 'AdjustT', 'AdjustT Rank', 'Luck', 'Luck Rank', \n",
    "                 'SOS Pyth', 'SOS Pyth Rank', 'SOS OppO', 'SOS OppO Rank',\n",
    "                 'SOS OppD', 'SOS OppD Rank', 'NCSOS Pyth', 'NCSOS Pyth Rank']]\n",
    "    #%%\n",
    "    df.to_csv('kenpom.csv', index=False)\n",
    "    #%%     \n",
    "    KP = df.copy()\n",
    "    del df\n",
    "    \n",
    "    print(\"KenPom Database downloaded and stored as 'kenpom.csv' in local directory.\")\n",
    "\n",
    "        \n"
   ]
  },
  {
   "cell_type": "markdown",
   "metadata": {},
   "source": [
    "## Scale KenPom data\n",
    "Scale to min and max of [0,1]"
   ]
  },
  {
   "cell_type": "code",
   "execution_count": 3,
   "metadata": {
    "collapsed": false
   },
   "outputs": [
    {
     "name": "stdout",
     "output_type": "stream",
     "text": [
      "Index(['Year', 'Rank', 'Team', 'Conference', 'Wins', 'Losses', 'Seed', 'Pyth',\n",
      "       'AdjustO', 'AdjustO Rank', 'AdjustD', 'AdjustD Rank', 'AdjustT',\n",
      "       'AdjustT Rank', 'Luck', 'Luck Rank', 'SOS Pyth', 'SOS Pyth Rank',\n",
      "       'SOS OppO', 'SOS OppO Rank', 'SOS OppD', 'SOS OppD Rank', 'NCSOS Pyth',\n",
      "       'NCSOS Pyth Rank'],\n",
      "      dtype='object')\n"
     ]
    }
   ],
   "source": [
    "categories = KP.columns\n",
    "print(categories)"
   ]
  },
  {
   "cell_type": "code",
   "execution_count": 4,
   "metadata": {
    "collapsed": false
   },
   "outputs": [
    {
     "data": {
      "text/html": [
       "<div>\n",
       "<table border=\"1\" class=\"dataframe\">\n",
       "  <thead>\n",
       "    <tr style=\"text-align: right;\">\n",
       "      <th></th>\n",
       "      <th>Year</th>\n",
       "      <th>Rank</th>\n",
       "      <th>Team</th>\n",
       "      <th>Conference</th>\n",
       "      <th>Wins</th>\n",
       "      <th>Losses</th>\n",
       "      <th>Seed</th>\n",
       "      <th>Pyth</th>\n",
       "      <th>AdjustO</th>\n",
       "      <th>AdjustO Rank</th>\n",
       "      <th>...</th>\n",
       "      <th>Luck</th>\n",
       "      <th>Luck Rank</th>\n",
       "      <th>SOS Pyth</th>\n",
       "      <th>SOS Pyth Rank</th>\n",
       "      <th>SOS OppO</th>\n",
       "      <th>SOS OppO Rank</th>\n",
       "      <th>SOS OppD</th>\n",
       "      <th>SOS OppD Rank</th>\n",
       "      <th>NCSOS Pyth</th>\n",
       "      <th>NCSOS Pyth Rank</th>\n",
       "    </tr>\n",
       "  </thead>\n",
       "  <tbody>\n",
       "    <tr>\n",
       "      <th>0</th>\n",
       "      <td>2002</td>\n",
       "      <td>1</td>\n",
       "      <td>Duke</td>\n",
       "      <td>ACC</td>\n",
       "      <td>31</td>\n",
       "      <td>4</td>\n",
       "      <td>1.0</td>\n",
       "      <td>34.14</td>\n",
       "      <td>118.9</td>\n",
       "      <td>1</td>\n",
       "      <td>...</td>\n",
       "      <td>-0.027</td>\n",
       "      <td>223</td>\n",
       "      <td>10.09</td>\n",
       "      <td>20</td>\n",
       "      <td>107.8</td>\n",
       "      <td>15</td>\n",
       "      <td>97.7</td>\n",
       "      <td>39</td>\n",
       "      <td>7.52</td>\n",
       "      <td>18</td>\n",
       "    </tr>\n",
       "    <tr>\n",
       "      <th>1</th>\n",
       "      <td>2002</td>\n",
       "      <td>2</td>\n",
       "      <td>Cincinnati</td>\n",
       "      <td>CUSA</td>\n",
       "      <td>31</td>\n",
       "      <td>4</td>\n",
       "      <td>1.0</td>\n",
       "      <td>30.15</td>\n",
       "      <td>116.0</td>\n",
       "      <td>7</td>\n",
       "      <td>...</td>\n",
       "      <td>0.002</td>\n",
       "      <td>165</td>\n",
       "      <td>7.45</td>\n",
       "      <td>54</td>\n",
       "      <td>105.2</td>\n",
       "      <td>60</td>\n",
       "      <td>97.8</td>\n",
       "      <td>42</td>\n",
       "      <td>5.41</td>\n",
       "      <td>43</td>\n",
       "    </tr>\n",
       "    <tr>\n",
       "      <th>2</th>\n",
       "      <td>2002</td>\n",
       "      <td>3</td>\n",
       "      <td>Maryland</td>\n",
       "      <td>ACC</td>\n",
       "      <td>32</td>\n",
       "      <td>4</td>\n",
       "      <td>1.0</td>\n",
       "      <td>29.24</td>\n",
       "      <td>117.2</td>\n",
       "      <td>3</td>\n",
       "      <td>...</td>\n",
       "      <td>0.025</td>\n",
       "      <td>104</td>\n",
       "      <td>10.32</td>\n",
       "      <td>18</td>\n",
       "      <td>107.9</td>\n",
       "      <td>11</td>\n",
       "      <td>97.6</td>\n",
       "      <td>35</td>\n",
       "      <td>5.12</td>\n",
       "      <td>45</td>\n",
       "    </tr>\n",
       "    <tr>\n",
       "      <th>3</th>\n",
       "      <td>2002</td>\n",
       "      <td>4</td>\n",
       "      <td>Kansas</td>\n",
       "      <td>B12</td>\n",
       "      <td>31</td>\n",
       "      <td>4</td>\n",
       "      <td>1.0</td>\n",
       "      <td>28.95</td>\n",
       "      <td>116.7</td>\n",
       "      <td>5</td>\n",
       "      <td>...</td>\n",
       "      <td>0.023</td>\n",
       "      <td>109</td>\n",
       "      <td>10.75</td>\n",
       "      <td>13</td>\n",
       "      <td>108.8</td>\n",
       "      <td>7</td>\n",
       "      <td>98.1</td>\n",
       "      <td>49</td>\n",
       "      <td>8.91</td>\n",
       "      <td>9</td>\n",
       "    </tr>\n",
       "    <tr>\n",
       "      <th>4</th>\n",
       "      <td>2002</td>\n",
       "      <td>5</td>\n",
       "      <td>Oklahoma</td>\n",
       "      <td>B12</td>\n",
       "      <td>31</td>\n",
       "      <td>5</td>\n",
       "      <td>2.0</td>\n",
       "      <td>26.02</td>\n",
       "      <td>113.0</td>\n",
       "      <td>20</td>\n",
       "      <td>...</td>\n",
       "      <td>0.044</td>\n",
       "      <td>67</td>\n",
       "      <td>9.39</td>\n",
       "      <td>29</td>\n",
       "      <td>107.8</td>\n",
       "      <td>14</td>\n",
       "      <td>98.4</td>\n",
       "      <td>61</td>\n",
       "      <td>2.55</td>\n",
       "      <td>87</td>\n",
       "    </tr>\n",
       "  </tbody>\n",
       "</table>\n",
       "<p>5 rows × 24 columns</p>\n",
       "</div>"
      ],
      "text/plain": [
       "   Year  Rank        Team Conference  Wins  Losses  Seed   Pyth  AdjustO  \\\n",
       "0  2002     1        Duke        ACC    31       4   1.0  34.14    118.9   \n",
       "1  2002     2  Cincinnati       CUSA    31       4   1.0  30.15    116.0   \n",
       "2  2002     3    Maryland        ACC    32       4   1.0  29.24    117.2   \n",
       "3  2002     4      Kansas        B12    31       4   1.0  28.95    116.7   \n",
       "4  2002     5    Oklahoma        B12    31       5   2.0  26.02    113.0   \n",
       "\n",
       "   AdjustO Rank       ...          Luck  Luck Rank  SOS Pyth  SOS Pyth Rank  \\\n",
       "0             1       ...        -0.027        223     10.09             20   \n",
       "1             7       ...         0.002        165      7.45             54   \n",
       "2             3       ...         0.025        104     10.32             18   \n",
       "3             5       ...         0.023        109     10.75             13   \n",
       "4            20       ...         0.044         67      9.39             29   \n",
       "\n",
       "   SOS OppO  SOS OppO Rank  SOS OppD  SOS OppD Rank  NCSOS Pyth  \\\n",
       "0     107.8             15      97.7             39        7.52   \n",
       "1     105.2             60      97.8             42        5.41   \n",
       "2     107.9             11      97.6             35        5.12   \n",
       "3     108.8              7      98.1             49        8.91   \n",
       "4     107.8             14      98.4             61        2.55   \n",
       "\n",
       "   NCSOS Pyth Rank  \n",
       "0               18  \n",
       "1               43  \n",
       "2               45  \n",
       "3                9  \n",
       "4               87  \n",
       "\n",
       "[5 rows x 24 columns]"
      ]
     },
     "execution_count": 4,
     "metadata": {},
     "output_type": "execute_result"
    }
   ],
   "source": [
    "KP.head()"
   ]
  },
  {
   "cell_type": "code",
   "execution_count": 5,
   "metadata": {
    "collapsed": false
   },
   "outputs": [
    {
     "data": {
      "text/plain": [
       "Index(['Rank', 'AdjustO Rank', 'AdjustD Rank', 'AdjustT Rank', 'Luck Rank',\n",
       "       'SOS Pyth Rank', 'SOS OppO Rank', 'SOS OppD Rank', 'NCSOS Pyth Rank'],\n",
       "      dtype='object')"
      ]
     },
     "execution_count": 5,
     "metadata": {},
     "output_type": "execute_result"
    }
   ],
   "source": [
    "drop_bool = [x.find('Rank') != -1 for x in categories]\n",
    "categories[drop_bool]"
   ]
  },
  {
   "cell_type": "code",
   "execution_count": 6,
   "metadata": {
    "collapsed": false
   },
   "outputs": [
    {
     "data": {
      "text/plain": [
       "['Rank',\n",
       " 'AdjustO Rank',\n",
       " 'AdjustD Rank',\n",
       " 'AdjustT Rank',\n",
       " 'Luck Rank',\n",
       " 'SOS Pyth Rank',\n",
       " 'SOS OppO Rank',\n",
       " 'SOS OppD Rank',\n",
       " 'NCSOS Pyth Rank',\n",
       " 'Conference',\n",
       " 'Seed']"
      ]
     },
     "execution_count": 6,
     "metadata": {},
     "output_type": "execute_result"
    }
   ],
   "source": [
    "columns_to_drop = categories[drop_bool].tolist()\n",
    "columns_to_drop += ['Conference', 'Seed'] \n",
    "columns_to_drop"
   ]
  },
  {
   "cell_type": "code",
   "execution_count": 7,
   "metadata": {
    "collapsed": false,
    "scrolled": false
   },
   "outputs": [
    {
     "name": "stdout",
     "output_type": "stream",
     "text": [
      "   Year        Team  Wins  Losses   Pyth  AdjustO  AdjustD  AdjustT   Luck  \\\n",
      "0  2002        Duke    31       4  34.14    118.9     84.7     75.9 -0.027   \n",
      "1  2002  Cincinnati    31       4  30.15    116.0     85.9     68.6  0.002   \n",
      "2  2002    Maryland    32       4  29.24    117.2     88.0     74.7  0.025   \n",
      "3  2002      Kansas    31       4  28.95    116.7     87.8     78.4  0.023   \n",
      "4  2002    Oklahoma    31       5  26.02    113.0     87.0     68.2  0.044   \n",
      "\n",
      "   SOS Pyth  SOS OppO  SOS OppD  NCSOS Pyth  \n",
      "0     10.09     107.8      97.7        7.52  \n",
      "1      7.45     105.2      97.8        5.41  \n",
      "2     10.32     107.9      97.6        5.12  \n",
      "3     10.75     108.8      98.1        8.91  \n",
      "4      9.39     107.8      98.4        2.55  \n"
     ]
    }
   ],
   "source": [
    "KP.drop(columns_to_drop, axis = 1, inplace = True)\n",
    "print(KP.head())"
   ]
  },
  {
   "cell_type": "code",
   "execution_count": 8,
   "metadata": {
    "collapsed": false
   },
   "outputs": [],
   "source": [
    "X_keys = KP[['Year', 'Team']]\n",
    "X_data = KP.drop(['Year', 'Team'], axis = 1)"
   ]
  },
  {
   "cell_type": "code",
   "execution_count": 9,
   "metadata": {
    "collapsed": false
   },
   "outputs": [],
   "source": [
    "\"\"\"Scale X_data mean zero, scale variation based on IQR\"\"\"\n",
    "rob_scaler = RobustScaler()\n",
    "X_data_scaled = rob_scaler.fit_transform(X_data)\n"
   ]
  },
  {
   "cell_type": "code",
   "execution_count": 10,
   "metadata": {
    "collapsed": false
   },
   "outputs": [
    {
     "name": "stdout",
     "output_type": "stream",
     "text": [
      "Index(['Wins', 'Losses', 'Pyth', 'AdjustO', 'AdjustD', 'AdjustT', 'Luck',\n",
      "       'SOS Pyth', 'SOS OppO', 'SOS OppD', 'NCSOS Pyth'],\n",
      "      dtype='object')\n"
     ]
    }
   ],
   "source": [
    "print(X_data.columns)"
   ]
  },
  {
   "cell_type": "markdown",
   "metadata": {},
   "source": [
    "## Generate dictionary for stats retrieval "
   ]
  },
  {
   "cell_type": "code",
   "execution_count": 11,
   "metadata": {
    "collapsed": false
   },
   "outputs": [
    {
     "name": "stdout",
     "output_type": "stream",
     "text": [
      "Test for dictionary generation: True\n"
     ]
    }
   ],
   "source": [
    "stats_dict = {}\n",
    "for year in X_keys['Year'].unique() :\n",
    "    year_dict = {}\n",
    "    for ix in X_keys.ix[X_keys['Year']==year, :].index :\n",
    "        stats_list = list(zip(X_data.columns, X_data_scaled[ix,:]))\n",
    "        team_name = X_keys['Team'].iloc[ix].strip().rstrip('.')\n",
    "        year_dict.update({team_name : dict(stats_list)})\n",
    "    \n",
    "    stats_dict.update({year: year_dict})\n",
    "print(\"Test for dictionary generation: {}\".format(len(stats_dict) == len(X_keys['Year'].unique())))\n",
    "    "
   ]
  },
  {
   "cell_type": "markdown",
   "metadata": {},
   "source": [
    "## Generate dictionary for Team to TeamID conversion"
   ]
  },
  {
   "cell_type": "code",
   "execution_count": 12,
   "metadata": {
    "collapsed": true
   },
   "outputs": [],
   "source": [
    "team_ids = pd.read_csv('teams.csv')"
   ]
  },
  {
   "cell_type": "code",
   "execution_count": 13,
   "metadata": {
    "collapsed": false,
    "scrolled": false
   },
   "outputs": [],
   "source": [
    "id2team_list = list(zip(team_ids['Team_Id'], team_ids['Team_Name']))\n",
    "team2id_list = list(zip(team_ids['Team_Name'], team_ids['Team_Id']))"
   ]
  },
  {
   "cell_type": "code",
   "execution_count": 14,
   "metadata": {
    "collapsed": false
   },
   "outputs": [],
   "source": [
    "team2id_dict = dict(team2id_list)\n",
    "id2team_dict = dict(id2team_list)"
   ]
  },
  {
   "cell_type": "markdown",
   "metadata": {},
   "source": [
    "#### Test every Team name key in the stats_dict is in the team_dict\n",
    "The loop structure below asks the user to search and update team keys as needed for proper alignment between the stats dictionary and the team names provided by Kaggle data documents."
   ]
  },
  {
   "cell_type": "code",
   "execution_count": 24,
   "metadata": {
    "collapsed": false,
    "scrolled": false
   },
   "outputs": [],
   "source": [
    "\n",
    "for year in stats_dict :\n",
    "    for team in stats_dict[year] :\n",
    "        if team not in team2id_dict : \n",
    "            print(\"=\"*40)\n",
    "            print(\"{} is not in team2id_dict\".format(team))\n",
    "            print(\"\\nPossible matches:\")\n",
    "            for key in team2id_dict :\n",
    "                if key.find(team[0:5]) != -1 :\n",
    "                    print(key)\n",
    "            new_key = input(\"New key to replace in stats_dict? ('search' if unknown)\\n\")\n",
    "            while new_key == 'search' :\n",
    "                query = input(\"\\nSearch query\\n\")\n",
    "                print(\"\\nquery matches:\")\n",
    "                for key in team2id_dict :\n",
    "                    if key.find(query) != -1 :\n",
    "                        print(key)\n",
    "                new_key = input(\"New key to replace in stats_dict? ('search' if unknown)\\n\")\n",
    "            try :\n",
    "                te_dict = stats_dict[year].pop(team)\n",
    "                stats_dict[year].update({new_key : te_dict})\n",
    "                print(\"\\n{} replaced by {} in stats_dict[{}]\\n\".format(team, new_key, year))\n",
    "                print(\"Searching rest of dictionary...\")\n",
    "                #search rest of dictionary to replace the key in other years\n",
    "                for year in stats_dict :\n",
    "                    for search_team in stats_dict[year] :\n",
    "                        if search_team == team :\n",
    "                            te_dict = stats_dict[year].pop(team)\n",
    "                            stats_dict[year].update({new_key : te_dict})\n",
    "                            print(\"{} replaced by {} in stats_dict[{}]\".format(team, new_key, year))\n",
    "            except :\n",
    "                print(\"ERROR in amending {} in {}.  Manual inspection required\".format(team, year))"
   ]
  },
  {
   "cell_type": "code",
   "execution_count": 26,
   "metadata": {
    "collapsed": false
   },
   "outputs": [
    {
     "name": "stdout",
     "output_type": "stream",
     "text": [
      "2016 : 350 teams\n",
      "2017 : 350 teams\n",
      "2002 : 326 teams\n",
      "2003 : 326 teams\n",
      "2004 : 325 teams\n",
      "2005 : 329 teams\n",
      "2006 : 333 teams\n",
      "2007 : 335 teams\n",
      "2008 : 340 teams\n",
      "2009 : 343 teams\n",
      "2010 : 346 teams\n",
      "2011 : 344 teams\n",
      "2012 : 344 teams\n",
      "2013 : 346 teams\n",
      "2014 : 350 teams\n",
      "2015 : 350 teams\n"
     ]
    }
   ],
   "source": [
    "for year in stats_dict :\n",
    "    print(\"{} : {} teams\".format(year, len(stats_dict[year])))"
   ]
  },
  {
   "cell_type": "code",
   "execution_count": 29,
   "metadata": {
    "collapsed": false
   },
   "outputs": [],
   "source": [
    "import pickle\n",
    "with open('stats_dictionary.pickle', 'wb') as f :\n",
    "    pickle.dump(stats_dict, f)\n"
   ]
  },
  {
   "cell_type": "code",
   "execution_count": 32,
   "metadata": {
    "collapsed": true
   },
   "outputs": [],
   "source": [
    "with open('team2id.pickle', 'wb') as f :\n",
    "    pickle.dump(team2id_dict, f)\n",
    "with open('id2team.pickle', 'wb') as f :\n",
    "    pickle.dump(id2team_dict, f)"
   ]
  },
  {
   "cell_type": "markdown",
   "metadata": {},
   "source": [
    "### Test dictionary retrieval"
   ]
  },
  {
   "cell_type": "code",
   "execution_count": 31,
   "metadata": {
    "collapsed": false
   },
   "outputs": [
    {
     "data": {
      "text/plain": [
       "{'AdjustD': -1.1304347826086945,\n",
       " 'AdjustO': 1.617647058823529,\n",
       " 'AdjustT': -0.093023255813954875,\n",
       " 'Losses': -1.0,\n",
       " 'Luck': -0.1764705882352941,\n",
       " 'NCSOS Pyth': 0.86135181975736574,\n",
       " 'Pyth': 1.6511768255884127,\n",
       " 'SOS OppD': -0.37999999999999828,\n",
       " 'SOS OppO': 2.0000000000000053,\n",
       " 'SOS Pyth': 1.3772020725388601,\n",
       " 'Wins': 0.80000000000000004}"
      ]
     },
     "execution_count": 31,
     "metadata": {},
     "output_type": "execute_result"
    }
   ],
   "source": [
    "stats_dict.get(2017).get('Louisville')"
   ]
  },
  {
   "cell_type": "markdown",
   "metadata": {},
   "source": [
    "## Notes\n",
    "This notebook contains the steps to download, process and store yearly statistical data from expert Ken Pomeroy's database.  Statistics were stored in a pickled dictionary that can be accessed using team name keys that are consistent with the names provided from the competition data and stored in the team2id and id2team dictionaries.\n",
    "\n",
    "The next step will be to use these sources for neural network training, then prediction."
   ]
  },
  {
   "cell_type": "code",
   "execution_count": null,
   "metadata": {
    "collapsed": true
   },
   "outputs": [],
   "source": []
  },
  {
   "cell_type": "code",
   "execution_count": null,
   "metadata": {
    "collapsed": true
   },
   "outputs": [],
   "source": []
  },
  {
   "cell_type": "code",
   "execution_count": null,
   "metadata": {
    "collapsed": true
   },
   "outputs": [],
   "source": []
  }
 ],
 "metadata": {
  "kernelspec": {
   "display_name": "Python [default]",
   "language": "python",
   "name": "python3"
  },
  "language_info": {
   "codemirror_mode": {
    "name": "ipython",
    "version": 3
   },
   "file_extension": ".py",
   "mimetype": "text/x-python",
   "name": "python",
   "nbconvert_exporter": "python",
   "pygments_lexer": "ipython3",
   "version": "3.5.2"
  }
 },
 "nbformat": 4,
 "nbformat_minor": 2
}
